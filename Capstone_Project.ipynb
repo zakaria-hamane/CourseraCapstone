{
  "nbformat": 4,
  "nbformat_minor": 0,
  "metadata": {
    "colab": {
      "name": "Capstone Project.ipynb",
      "provenance": [],
      "toc_visible": true
    },
    "kernelspec": {
      "name": "python3",
      "display_name": "Python 3"
    }
  },
  "cells": [
    {
      "cell_type": "markdown",
      "metadata": {
        "id": "1fr9zd6l6nlU",
        "colab_type": "text"
      },
      "source": [
        "# **Applied Data Science Capstone - Capstone Project Notebook**\n",
        "\n",
        "**This Jupyter notebook will be used for Applied Data Science Capstone**"
      ]
    },
    {
      "cell_type": "code",
      "metadata": {
        "id": "XhDxvyA81mye",
        "colab_type": "code",
        "colab": {}
      },
      "source": [
        "import pandas as pd\n",
        "import numpy as np"
      ],
      "execution_count": 0,
      "outputs": []
    },
    {
      "cell_type": "code",
      "metadata": {
        "id": "8GgDK-l469tp",
        "colab_type": "code",
        "colab": {
          "base_uri": "https://localhost:8080/",
          "height": 35
        },
        "outputId": "60a41e31-872b-4c94-a421-a1b7777caa7d"
      },
      "source": [
        "print(\"Hello Capstone Project Course!\")"
      ],
      "execution_count": 2,
      "outputs": [
        {
          "output_type": "stream",
          "text": [
            "Hello Capstone Project Course!\n"
          ],
          "name": "stdout"
        }
      ]
    }
  ]
}